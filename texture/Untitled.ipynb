{
 "cells": [
  {
   "cell_type": "code",
   "execution_count": 3,
   "id": "ccb5b9e3-f809-4dda-9760-52acb53fd40c",
   "metadata": {},
   "outputs": [],
   "source": [
    "# -*- coding: utf-8 -*-\n",
    "\"\"\"\n",
    "Created on Thu May 20 16:29:54 2021\n",
    "@author: user\n",
    "\"\"\"\n",
    "\n",
    "import math\n",
    "import time\n",
    "\n",
    "import sys\n",
    "import os\n",
    "import imageio\n",
    "import numpy as np\n",
    "\n",
    "EXTRUDE=[15., 40., 55.]\n",
    "N_PNG=len(EXTRUDE)\n",
    "\n",
    "def execute_quiet(func, *args, **kwargs):\n",
    "    old_stdout = sys.stdout\n",
    "    sys.stdout = open(os.devnull, \"w\")\n",
    "    result = func(*args, **kwargs)\n",
    "    sys.stdout = old_stdout\n",
    "    return result\n",
    "\n",
    "\n",
    "def merge2(save_dir):\n",
    "    im_main = imageio.imread(os.path.join(save_dir, 'result_trimmed_baked1.png'))\n",
    "    images = []\n",
    "    start = time.time()\n",
    "    for i in range(1,N_PNG):\n",
    "        print(f'Merging - result_trimmed_baked'+str(i+1)+'.png')\n",
    "        images.append(imageio.imread(os.path.join(save_dir, 'result_trimmed_baked'+str(i+1)+'.png')))\n",
    "    for i, j in np.ndindex(im_main.shape[0], im_main.shape[1]):\n",
    "        if all(im_main[i,j,:-1] == np.array([0,0,0],dtype=np.uint8)):\n",
    "            for k, image in enumerate(images):\n",
    "                if not all(image[i,j,:-1] == np.array([0,0,0],dtype=np.uint8)):\n",
    "                    im_main[i,j,:] = image[i,j,:]\n",
    "                    break\n",
    "    end = time.time()\n",
    "    print(f\"{end-start : 5f} sec\")\n",
    "    imageio.imsave(os.path.join(save_dir, \"result_trimmed_baked.png\"), im_main)\n",
    "    print(\"Merged image has been saved.\")\n",
    " "
   ]
  },
  {
   "cell_type": "code",
   "execution_count": 6,
   "id": "7417405b-85af-40dd-9fe2-3a643c14f852",
   "metadata": {},
   "outputs": [],
   "source": [
    "img = imageio.imread(os.path.join(os.getcwd(), 'result_trimmed_baked1.png'))\n",
    "img2 = imageio.imread(os.path.join(os.getcwd(), 'result_trimmed_baked2.png'))\n",
    "img3 = imageio.imread(os.path.join(os.getcwd(), 'result_trimmed_baked3.png'))\n",
    "\n"
   ]
  },
  {
   "cell_type": "code",
   "execution_count": 18,
   "id": "1be48228-307d-4c9c-985b-4f0f172c4c3d",
   "metadata": {},
   "outputs": [],
   "source": [
    "a = img"
   ]
  },
  {
   "cell_type": "code",
   "execution_count": 21,
   "id": "ce9c8549-96b8-46ab-918c-49e7d5d40e84",
   "metadata": {},
   "outputs": [
    {
     "data": {
      "text/plain": [
       "(2048, 2048, 4)"
      ]
     },
     "execution_count": 21,
     "metadata": {},
     "output_type": "execute_result"
    }
   ],
   "source": [
    "a.shape"
   ]
  },
  {
   "cell_type": "code",
   "execution_count": 33,
   "id": "79a05e58-294b-4cb2-ae81-28e19cbc3984",
   "metadata": {},
   "outputs": [],
   "source": [
    "z=np.zeros(shape=(1,1,4))"
   ]
  },
  {
   "cell_type": "code",
   "execution_count": 36,
   "id": "374de243-107b-4a90-bf04-90d45d8e8e24",
   "metadata": {},
   "outputs": [],
   "source": [
    "result=a[a==z]"
   ]
  },
  {
   "cell_type": "code",
   "execution_count": 50,
   "id": "57809107-6d62-4d67-9396-945ecc87e5bb",
   "metadata": {},
   "outputs": [],
   "source": [
    "z[0][0][3] = 255"
   ]
  },
  {
   "cell_type": "code",
   "execution_count": 62,
   "id": "c48bd8b8-5877-4951-afcf-429b3e0a210b",
   "metadata": {},
   "outputs": [],
   "source": [
    "result=a[a!=z]"
   ]
  },
  {
   "cell_type": "code",
   "execution_count": 63,
   "id": "23de76f4-ff54-4d8b-984f-2882f8284786",
   "metadata": {},
   "outputs": [
    {
     "data": {
      "text/plain": [
       "Array([34, 19,  8, ..., 56, 41, 34], dtype=uint8)"
      ]
     },
     "execution_count": 63,
     "metadata": {},
     "output_type": "execute_result"
    }
   ],
   "source": [
    "result"
   ]
  },
  {
   "cell_type": "code",
   "execution_count": 64,
   "id": "f692c8ac-2e73-44f6-9066-0f5be9724910",
   "metadata": {
    "tags": []
   },
   "outputs": [
    {
     "data": {
      "text/plain": [
       "(9674713,)"
      ]
     },
     "execution_count": 64,
     "metadata": {},
     "output_type": "execute_result"
    }
   ],
   "source": [
    "result.shape"
   ]
  },
  {
   "cell_type": "code",
   "execution_count": null,
   "id": "c5833a7f-559c-4398-852c-6fa2d866206b",
   "metadata": {},
   "outputs": [],
   "source": []
  },
  {
   "cell_type": "code",
   "execution_count": 67,
   "id": "2dd446f4-a0d0-405c-b1a4-6d8b0e4a18a7",
   "metadata": {},
   "outputs": [],
   "source": [
    "t = np.zeros(shape=(1,1,3))"
   ]
  },
  {
   "cell_type": "code",
   "execution_count": 70,
   "id": "7008e60e-e4b5-47e4-a55d-2b29a01448f9",
   "metadata": {},
   "outputs": [
    {
     "name": "stderr",
     "output_type": "stream",
     "text": [
      "/tmp/ipykernel_21897/163903955.py:1: DeprecationWarning: elementwise comparison failed; this will raise an error in the future.\n",
      "  a[a[:,:,:-1] ==z]\n"
     ]
    },
    {
     "data": {
      "text/plain": [
       "Array([], shape=(0, 2048, 2048, 4), dtype=uint8)"
      ]
     },
     "execution_count": 70,
     "metadata": {},
     "output_type": "execute_result"
    }
   ],
   "source": [
    "a[a[:,:,:-1] ==z]"
   ]
  },
  {
   "cell_type": "code",
   "execution_count": 39,
   "id": "c35aad48-9871-4a78-a3f7-29f5676dee5f",
   "metadata": {
    "tags": []
   },
   "outputs": [
    {
     "ename": "TypeError",
     "evalue": "NumPy boolean array indexing assignment requires a 0 or 1-dimensional input, input has 3 dimensions",
     "output_type": "error",
     "traceback": [
      "\u001b[0;31m---------------------------------------------------------------------------\u001b[0m",
      "\u001b[0;31mTypeError\u001b[0m                                 Traceback (most recent call last)",
      "\u001b[0;32m/tmp/ipykernel_21897/328016899.py\u001b[0m in \u001b[0;36m<module>\u001b[0;34m\u001b[0m\n\u001b[0;32m----> 1\u001b[0;31m \u001b[0ma\u001b[0m\u001b[0;34m[\u001b[0m\u001b[0ma\u001b[0m\u001b[0;34m==\u001b[0m\u001b[0mz\u001b[0m\u001b[0;34m]\u001b[0m \u001b[0;34m=\u001b[0m \u001b[0mimg2\u001b[0m\u001b[0;34m\u001b[0m\u001b[0;34m\u001b[0m\u001b[0m\n\u001b[0m",
      "\u001b[0;31mTypeError\u001b[0m: NumPy boolean array indexing assignment requires a 0 or 1-dimensional input, input has 3 dimensions"
     ]
    }
   ],
   "source": [
    "a[a==z] = img2"
   ]
  },
  {
   "cell_type": "code",
   "execution_count": 8,
   "id": "c1607f97-1751-4a1b-8e8b-fad1369c06d2",
   "metadata": {},
   "outputs": [
    {
     "name": "stderr",
     "output_type": "stream",
     "text": [
      "/tmp/ipykernel_21897/1105220599.py:1: DeprecationWarning: elementwise comparison failed; this will raise an error in the future.\n",
      "  img[img==np.array([0,0,0],dtype=np.uint8)] = np.array([100,0,0],dtype=np.uint8)\n"
     ]
    },
    {
     "ename": "ValueError",
     "evalue": "shape mismatch: value array of shape (3,)  could not be broadcast to indexing result of shape (0,2048,2048,4)",
     "output_type": "error",
     "traceback": [
      "\u001b[0;31m---------------------------------------------------------------------------\u001b[0m",
      "\u001b[0;31mValueError\u001b[0m                                Traceback (most recent call last)",
      "\u001b[0;32m/tmp/ipykernel_21897/1105220599.py\u001b[0m in \u001b[0;36m<module>\u001b[0;34m\u001b[0m\n\u001b[0;32m----> 1\u001b[0;31m \u001b[0mimg\u001b[0m\u001b[0;34m[\u001b[0m\u001b[0mimg\u001b[0m\u001b[0;34m==\u001b[0m\u001b[0mnp\u001b[0m\u001b[0;34m.\u001b[0m\u001b[0marray\u001b[0m\u001b[0;34m(\u001b[0m\u001b[0;34m[\u001b[0m\u001b[0;36m0\u001b[0m\u001b[0;34m,\u001b[0m\u001b[0;36m0\u001b[0m\u001b[0;34m,\u001b[0m\u001b[0;36m0\u001b[0m\u001b[0;34m]\u001b[0m\u001b[0;34m,\u001b[0m\u001b[0mdtype\u001b[0m\u001b[0;34m=\u001b[0m\u001b[0mnp\u001b[0m\u001b[0;34m.\u001b[0m\u001b[0muint8\u001b[0m\u001b[0;34m)\u001b[0m\u001b[0;34m]\u001b[0m \u001b[0;34m=\u001b[0m \u001b[0mnp\u001b[0m\u001b[0;34m.\u001b[0m\u001b[0marray\u001b[0m\u001b[0;34m(\u001b[0m\u001b[0;34m[\u001b[0m\u001b[0;36m100\u001b[0m\u001b[0;34m,\u001b[0m\u001b[0;36m0\u001b[0m\u001b[0;34m,\u001b[0m\u001b[0;36m0\u001b[0m\u001b[0;34m]\u001b[0m\u001b[0;34m,\u001b[0m\u001b[0mdtype\u001b[0m\u001b[0;34m=\u001b[0m\u001b[0mnp\u001b[0m\u001b[0;34m.\u001b[0m\u001b[0muint8\u001b[0m\u001b[0;34m)\u001b[0m\u001b[0;34m\u001b[0m\u001b[0;34m\u001b[0m\u001b[0m\n\u001b[0m",
      "\u001b[0;31mValueError\u001b[0m: shape mismatch: value array of shape (3,)  could not be broadcast to indexing result of shape (0,2048,2048,4)"
     ]
    }
   ],
   "source": [
    "img[img==np.array([0,0,0],dtype=np.uint8)] = np.array([100,0,0],dtype=np.uint8)"
   ]
  },
  {
   "cell_type": "code",
   "execution_count": null,
   "id": "9ead1f67-3b0a-474b-a46d-b48c5c5c20c4",
   "metadata": {},
   "outputs": [],
   "source": [
    "\n",
    "def merge2(save_dir):\n",
    "    im_main = imageio.imread(os.path.join(save_dir, 'result_trimmed_baked1.png'))\n",
    "    images = []\n",
    "    start = time.time()\n",
    "    for i in range(1,N_PNG):\n",
    "        print(f'Merging - result_trimmed_baked'+str(i+1)+'.png')\n",
    "        images.append(imageio.imread(os.path.join(save_dir, 'result_trimmed_baked'+str(i+1)+'.png')))\n",
    "    for i, j in np.ndindex(im_main.shape[0], im_main.shape[1]):\n",
    "        if all(im_main[i,j,:-1] == np.array([0,0,0],dtype=np.uint8)):\n",
    "            for k, image in enumerate(images):\n",
    "                if not all(image[i,j,:-1] == np.array([0,0,0],dtype=np.uint8)):\n",
    "                    im_main[i,j,:] = image[i,j,:]\n",
    "                    break\n",
    "    end = time.time()\n",
    "    print(f\"{end-start : 5f} sec\")\n",
    "    imageio.imsave(os.path.join(save_dir, \"result_trimmed_baked.png\"), im_main)\n",
    "    print(\"Merged image has been saved.\")\n",
    " \n",
    "def merge(save_dir):\n",
    "    im_main = imageio.imread(os.path.join(save_dir, 'result_trimmed_baked1.png'))\n",
    "    #images = []\n",
    "    start = time.time()\n",
    "    '''\n",
    "    for i in range(1,N_PNG):\n",
    "        print(f'Merging - result_trimmed_baked'+str(i+1)+'.png')\n",
    "        images.append(imageio.imread(os.path.join(save_dir, 'result_trimmed_baked'+str(i+1)+'.png')))\n",
    "\n",
    "    for i, j in np.ndindex(im_main.shape[0], im_main.shape[1]):\n",
    "        if all(im_main[i,j,:-1] == np.array([0,0,0],dtype=np.uint8)):\n",
    "            for k, image in enumerate(images):\n",
    "                if not all(image[i,j,:-1] == np.array([0,0,0],dtype=np.uint8)):\n",
    "                    im_main[i,j,:] = image[i,j,:]\n",
    "                    break\n",
    "    '''\n",
    "    image2 = imageio.imread(os.path.join(save_dir, 'result_trimmed_baked2.png'))\n",
    "    if all(im_main[:,:,:] == np.array([0,0,0],dtype=np.uint8)]) \n",
    "    = image2\n",
    "\n",
    "    end = time.time()\n",
    "    print(f\"{end-start : 5f} sec\")\n",
    "    print(type(im_main))\n",
    "    imageio.imsave(os.path.join(save_dir, \"result_trimmed_baked.png\"), im_main)\n",
    "    print(\"Merged image has been saved.\")\n",
    "\n",
    "\n",
    "def testOneCase(scanner_loc, innofit_loc, save_dir):\n",
    "    assert os.path.isfile(scanner_loc), f'{scanner_loc} file does not exist!'\n",
    "    assert os.path.isfile(innofit_loc), f'{innofit_loc} file does not exist!'\n",
    "    bake_texture(scanner_loc, innofit_loc, save_dir)\n",
    "    merge(save_dir)\n",
    "\n",
    "def testAllCases():\n",
    "    root_dir = os.getcwd()\n",
    "    patients = os.listdir(root_dir)\n",
    "    for p in patients:\n",
    "        if os.path.isfile(p):\n",
    "            print(f\"[{p}] is not a directory. We continue...\")\n",
    "            continue\n",
    "        files = os.listdir(os.path.join(root_dir, p))\n",
    "        scan_mesh = None\n",
    "        for f in files:\n",
    "            if f.endswith(\"_1.png\"):\n",
    "                scan_mesh = f[:-6]+\".obj\"\n",
    "                if not os.path.isfile(os.path.join(root_dir, p, scan_mesh)):\n",
    "                    print(f\"[{scan_mesh}] doesn't exist!\")\n",
    "                    break\n",
    "                print(f\"Original mesh name is [{scan_mesh}]\")\n",
    "        if f is None:\n",
    "            print(\"Coudn't find the original mesh\")\n",
    "            continue\n",
    "        testOneCase(os.path.join(root_dir, p, scan_mesh),\n",
    "                    os.path.join(root_dir, p, \"PCAResult.obj\"),\n",
    "                    os.path.join(root_dir, p))\n",
    "\n",
    "if __name__ == \"__main__\":\n",
    "    testAllCases()\n",
    "    \n"
   ]
  },
  {
   "cell_type": "code",
   "execution_count": 6,
   "id": "ca7b5836-f628-47ea-9806-26783da9520a",
   "metadata": {},
   "outputs": [],
   "source": [
    "import cv2\n",
    "import math\n",
    "import time\n",
    "\n",
    "import sys\n",
    "import os\n",
    "import imageio\n",
    "import numpy as np"
   ]
  },
  {
   "cell_type": "code",
   "execution_count": 7,
   "id": "3c529f83-20b7-4945-901e-ae4d43bbffc4",
   "metadata": {},
   "outputs": [],
   "source": [
    "img = cv2.imread(os.path.join(os.getcwd(), 'result_trimmed_baked1.png'))\n",
    "img2 = cv2.imread(os.path.join(os.getcwd(), 'result_trimmed_baked2.png'))\n",
    "img3 = cv2.imread(os.path.join(os.getcwd(), 'result_trimmed_baked3.png'))\n"
   ]
  },
  {
   "cell_type": "code",
   "execution_count": 9,
   "id": "709fa4e8-bb93-4a26-a0cf-7daf676581ad",
   "metadata": {},
   "outputs": [],
   "source": [
    "sub = cv2.subtract(img2,img)"
   ]
  },
  {
   "cell_type": "code",
   "execution_count": 13,
   "id": "485c79cc-0cfd-40dd-9377-a6a1c08d2e3e",
   "metadata": {},
   "outputs": [],
   "source": [
    "imgSub = cv2.add(img,sub) "
   ]
  },
  {
   "cell_type": "code",
   "execution_count": 14,
   "id": "ca5d72ed-5e99-4da4-87cb-6b72cdecdc92",
   "metadata": {},
   "outputs": [],
   "source": [
    "sub = cv2.subtract(img3,imgSub)"
   ]
  },
  {
   "cell_type": "code",
   "execution_count": 15,
   "id": "63e381b2-063c-472a-b89f-80b7b37ce921",
   "metadata": {},
   "outputs": [],
   "source": [
    "newImg = cv2.add(imgSub,sub) "
   ]
  },
  {
   "cell_type": "code",
   "execution_count": 16,
   "id": "0df66044-b3fd-4df9-8a88-df91bddbe8c0",
   "metadata": {},
   "outputs": [
    {
     "data": {
      "text/plain": [
       "True"
      ]
     },
     "execution_count": 16,
     "metadata": {},
     "output_type": "execute_result"
    }
   ],
   "source": [
    "cv2.imwrite(\"test.png\",newImg)"
   ]
  },
  {
   "cell_type": "code",
   "execution_count": null,
   "id": "866c1b57-602c-4f39-9e80-23c64a0bfea3",
   "metadata": {},
   "outputs": [],
   "source": [
    "img = cv2.imread(os.path.join(os.getcwd(), 'result_trimmed_baked1.png'))\n",
    "img2 = cv2.imread(os.path.join(os.getcwd(), 'result_trimmed_baked2.png'))\n",
    "img3 = cv2.imread(os.path.join(os.getcwd(), 'result_trimmed_baked3.png'))"
   ]
  },
  {
   "cell_type": "code",
   "execution_count": 24,
   "id": "479d8b16-ec62-414f-b82e-cf7493e19494",
   "metadata": {},
   "outputs": [
    {
     "ename": "error",
     "evalue": "OpenCV(4.5.4-dev) /tmp/pip-req-build-5x6cvtvt/opencv/modules/core/src/arithm.cpp:672: error: (-5:Bad argument) When the input arrays in add/subtract/multiply/divide functions have different types, the output array type must be explicitly specified in function 'arithm_op'\n",
     "output_type": "error",
     "traceback": [
      "\u001b[0;31m---------------------------------------------------------------------------\u001b[0m",
      "\u001b[0;31merror\u001b[0m                                     Traceback (most recent call last)",
      "\u001b[0;32m/tmp/ipykernel_23590/3356641957.py\u001b[0m in \u001b[0;36m<module>\u001b[0;34m\u001b[0m\n\u001b[1;32m      1\u001b[0m \u001b[0ma\u001b[0m \u001b[0;34m=\u001b[0m \u001b[0mnp\u001b[0m\u001b[0;34m.\u001b[0m\u001b[0mones\u001b[0m\u001b[0;34m(\u001b[0m\u001b[0mshape\u001b[0m\u001b[0;34m=\u001b[0m\u001b[0;34m(\u001b[0m\u001b[0;36m2048\u001b[0m\u001b[0;34m,\u001b[0m\u001b[0;36m2048\u001b[0m\u001b[0;34m,\u001b[0m\u001b[0;36m3\u001b[0m\u001b[0;34m)\u001b[0m\u001b[0;34m)\u001b[0m\u001b[0;34m\u001b[0m\u001b[0;34m\u001b[0m\u001b[0m\n\u001b[0;32m----> 2\u001b[0;31m \u001b[0mmask\u001b[0m \u001b[0;34m=\u001b[0m \u001b[0mcv2\u001b[0m\u001b[0;34m.\u001b[0m\u001b[0msubtract\u001b[0m\u001b[0;34m(\u001b[0m\u001b[0ma\u001b[0m\u001b[0;34m,\u001b[0m\u001b[0mimg\u001b[0m\u001b[0;34m)\u001b[0m\u001b[0;34m\u001b[0m\u001b[0;34m\u001b[0m\u001b[0m\n\u001b[0m\u001b[1;32m      3\u001b[0m \u001b[0mcv2\u001b[0m\u001b[0;34m.\u001b[0m\u001b[0mcopyTo\u001b[0m\u001b[0;34m(\u001b[0m\u001b[0mimg\u001b[0m\u001b[0;34m,\u001b[0m\u001b[0ma\u001b[0m\u001b[0;34m,\u001b[0m\u001b[0mimg2\u001b[0m\u001b[0;34m)\u001b[0m\u001b[0;34m\u001b[0m\u001b[0;34m\u001b[0m\u001b[0m\n",
      "\u001b[0;31merror\u001b[0m: OpenCV(4.5.4-dev) /tmp/pip-req-build-5x6cvtvt/opencv/modules/core/src/arithm.cpp:672: error: (-5:Bad argument) When the input arrays in add/subtract/multiply/divide functions have different types, the output array type must be explicitly specified in function 'arithm_op'\n"
     ]
    }
   ],
   "source": [
    "a = np.ones(shape=(2048,2048,3))\n",
    "mask = cv2.subtract(a,img)\n",
    "cv2.copyTo(img,a,img2)"
   ]
  },
  {
   "cell_type": "code",
   "execution_count": null,
   "id": "455e96eb-e754-4694-bc21-7d8e552ac416",
   "metadata": {},
   "outputs": [],
   "source": [
    "a = np.ones(shape=(2048,2048,3))\n",
    "mask = cv2.subtract(a,img)"
   ]
  },
  {
   "cell_type": "code",
   "execution_count": 25,
   "id": "91801a2b-73ef-4096-82dd-15e3ec4216be",
   "metadata": {},
   "outputs": [
    {
     "data": {
      "text/plain": [
       "numpy.ndarray"
      ]
     },
     "execution_count": 25,
     "metadata": {},
     "output_type": "execute_result"
    }
   ],
   "source": [
    "type(a)"
   ]
  },
  {
   "cell_type": "code",
   "execution_count": 26,
   "id": "bed645ee-374d-4987-b885-e4d423276963",
   "metadata": {},
   "outputs": [
    {
     "data": {
      "text/plain": [
       "numpy.ndarray"
      ]
     },
     "execution_count": 26,
     "metadata": {},
     "output_type": "execute_result"
    }
   ],
   "source": [
    "type(img)"
   ]
  },
  {
   "cell_type": "code",
   "execution_count": 27,
   "id": "f717c3e1-f0d1-4266-a666-cceba2ee1170",
   "metadata": {},
   "outputs": [
    {
     "data": {
      "text/plain": [
       "(2048, 2048, 3)"
      ]
     },
     "execution_count": 27,
     "metadata": {},
     "output_type": "execute_result"
    }
   ],
   "source": [
    "a.shape"
   ]
  },
  {
   "cell_type": "code",
   "execution_count": 28,
   "id": "a48fe731-c43b-4bd6-ba66-127b86286a71",
   "metadata": {},
   "outputs": [
    {
     "data": {
      "text/plain": [
       "(2048, 2048, 3)"
      ]
     },
     "execution_count": 28,
     "metadata": {},
     "output_type": "execute_result"
    }
   ],
   "source": [
    "img.shape"
   ]
  },
  {
   "cell_type": "code",
   "execution_count": 32,
   "id": "9271fd6b-3633-43f9-b1dc-e6fa93abe366",
   "metadata": {},
   "outputs": [
    {
     "ename": "error",
     "evalue": "OpenCV(4.5.4-dev) /tmp/pip-req-build-5x6cvtvt/opencv/modules/core/src/arithm.cpp:672: error: (-5:Bad argument) When the input arrays in add/subtract/multiply/divide functions have different types, the output array type must be explicitly specified in function 'arithm_op'\n",
     "output_type": "error",
     "traceback": [
      "\u001b[0;31m---------------------------------------------------------------------------\u001b[0m",
      "\u001b[0;31merror\u001b[0m                                     Traceback (most recent call last)",
      "\u001b[0;32m/tmp/ipykernel_23590/1491561618.py\u001b[0m in \u001b[0;36m<module>\u001b[0;34m\u001b[0m\n\u001b[0;32m----> 1\u001b[0;31m \u001b[0mmask\u001b[0m \u001b[0;34m=\u001b[0m \u001b[0mcv2\u001b[0m\u001b[0;34m.\u001b[0m\u001b[0msubtract\u001b[0m\u001b[0;34m(\u001b[0m\u001b[0ma\u001b[0m\u001b[0;34m,\u001b[0m\u001b[0mimg\u001b[0m\u001b[0;34m)\u001b[0m\u001b[0;34m\u001b[0m\u001b[0;34m\u001b[0m\u001b[0m\n\u001b[0m",
      "\u001b[0;31merror\u001b[0m: OpenCV(4.5.4-dev) /tmp/pip-req-build-5x6cvtvt/opencv/modules/core/src/arithm.cpp:672: error: (-5:Bad argument) When the input arrays in add/subtract/multiply/divide functions have different types, the output array type must be explicitly specified in function 'arithm_op'\n"
     ]
    }
   ],
   "source": [
    "mask = cv2.subtract(a,img)"
   ]
  },
  {
   "cell_type": "code",
   "execution_count": 34,
   "id": "9bdeec67-52f4-48d4-b9a7-0ea0b8e6170e",
   "metadata": {},
   "outputs": [
    {
     "data": {
      "text/plain": [
       "True"
      ]
     },
     "execution_count": 34,
     "metadata": {},
     "output_type": "execute_result"
    }
   ],
   "source": [
    "cv2.imwrite(\"make.png\",a)"
   ]
  },
  {
   "cell_type": "code",
   "execution_count": 60,
   "id": "4c248082-3fe4-40cd-94ce-df41a938b924",
   "metadata": {},
   "outputs": [],
   "source": [
    "img = cv2.imread(os.path.join(os.getcwd(), 'result_trimmed_baked1.png'))\n",
    "img2 = cv2.imread(os.path.join(os.getcwd(), 'result_trimmed_baked2.png'))\n",
    "img3 = cv2.imread(os.path.join(os.getcwd(), 'result_trimmed_baked3.png'))\n",
    "make = np.ones(shape=(2048,2048,3), dtype=np.uint8)"
   ]
  },
  {
   "cell_type": "code",
   "execution_count": 61,
   "id": "9a5d2239-b948-4028-8297-3f4a3b70f187",
   "metadata": {},
   "outputs": [],
   "source": [
    "mask = cv2.subtract(make,img)\n",
    "mask = cv2.cvtColor(mask,cv2.COLOR_BGR2GRAY)"
   ]
  },
  {
   "cell_type": "code",
   "execution_count": 62,
   "id": "65b4c1fd-7878-43e8-9360-443d8d640968",
   "metadata": {
    "tags": []
   },
   "outputs": [],
   "source": [
    "img[mask>0] = img2[mask>0]"
   ]
  },
  {
   "cell_type": "code",
   "execution_count": 63,
   "id": "addf76bb-ff13-411b-85fd-9fb0def7e65f",
   "metadata": {},
   "outputs": [],
   "source": [
    "mask = cv2.subtract(make,img)\n",
    "mask = cv2.cvtColor(mask,cv2.COLOR_BGR2GRAY)"
   ]
  },
  {
   "cell_type": "code",
   "execution_count": 64,
   "id": "ea62ebc2-f20c-448c-8f43-9618d32de4df",
   "metadata": {
    "tags": []
   },
   "outputs": [],
   "source": [
    "img[mask>0] = img3[mask>0]"
   ]
  },
  {
   "cell_type": "code",
   "execution_count": 65,
   "id": "bcb2bc93-36c1-41c9-a6b3-fc6eb179d9fc",
   "metadata": {},
   "outputs": [
    {
     "data": {
      "text/plain": [
       "True"
      ]
     },
     "execution_count": 65,
     "metadata": {},
     "output_type": "execute_result"
    }
   ],
   "source": [
    "cv2.imwrite(\"test.png\",img)"
   ]
  },
  {
   "cell_type": "code",
   "execution_count": 50,
   "id": "292590f9-dce0-48fc-abbd-28af105a17ab",
   "metadata": {},
   "outputs": [
    {
     "data": {
      "text/plain": [
       "array([[1, 1, 1, ..., 1, 1, 1],\n",
       "       [1, 1, 1, ..., 1, 1, 1],\n",
       "       [1, 1, 1, ..., 1, 1, 1],\n",
       "       ...,\n",
       "       [1, 1, 1, ..., 1, 1, 1],\n",
       "       [1, 1, 1, ..., 1, 1, 1],\n",
       "       [1, 1, 1, ..., 1, 1, 1]], dtype=uint8)"
      ]
     },
     "execution_count": 50,
     "metadata": {},
     "output_type": "execute_result"
    }
   ],
   "source": []
  },
  {
   "cell_type": "code",
   "execution_count": 58,
   "id": "0b46d75f-5d19-4fa0-8d68-98cb0d1c855a",
   "metadata": {},
   "outputs": [],
   "source": [
    "b = np.ones(shape=(2048,2048,3), dtype=np.uint8)"
   ]
  },
  {
   "cell_type": "code",
   "execution_count": 59,
   "id": "08ecba70-0dc3-4d3c-9754-bace97b5a0be",
   "metadata": {},
   "outputs": [],
   "source": [
    "mask = cv2.subtract(b,img)"
   ]
  },
  {
   "cell_type": "code",
   "execution_count": null,
   "id": "43189fe0-b886-4361-95ac-9cd307606fae",
   "metadata": {},
   "outputs": [],
   "source": []
  }
 ],
 "metadata": {
  "kernelspec": {
   "display_name": "Python 3 (ipykernel)",
   "language": "python",
   "name": "python3"
  },
  "language_info": {
   "codemirror_mode": {
    "name": "ipython",
    "version": 3
   },
   "file_extension": ".py",
   "mimetype": "text/x-python",
   "name": "python",
   "nbconvert_exporter": "python",
   "pygments_lexer": "ipython3",
   "version": "3.9.6"
  }
 },
 "nbformat": 4,
 "nbformat_minor": 5
}
